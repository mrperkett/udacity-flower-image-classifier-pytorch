{
 "cells": [
  {
   "cell_type": "markdown",
   "metadata": {},
   "source": [
    "# Exploration: inspecting data\n",
    "This notebook collects and displays information related to the input image sets (`train`, `test`, `validate`)."
   ]
  },
  {
   "cell_type": "code",
   "execution_count": 34,
   "metadata": {},
   "outputs": [],
   "source": [
    "# imports\n",
    "import collections\n",
    "import json\n",
    "\n",
    "import matplotlib.pyplot as plt\n",
    "import numpy as np\n",
    "import pandas as pd\n",
    "import seaborn as sns\n",
    "from torch.utils.data import DataLoader\n",
    "from torchvision import datasets, transforms"
   ]
  },
  {
   "cell_type": "code",
   "execution_count": 28,
   "metadata": {},
   "outputs": [
    {
     "name": "stdout",
     "output_type": "stream",
     "text": [
      "num images: 6552\n"
     ]
    }
   ],
   "source": [
    "# set up DataLoader to load training images with the only transformation being conversion to a tensor\n",
    "data_dir = \"/mnt/c/Large Files/flower_data/train\"\n",
    "transform = transforms.Compose([transforms.ToTensor()])\n",
    "dataset = datasets.ImageFolder(data_dir, transform=transform)\n",
    "dataloader = DataLoader(dataset, batch_size=1, shuffle=False)\n",
    "\n",
    "print(f\"num images: {len(dataloader)}\")"
   ]
  },
  {
   "cell_type": "code",
   "execution_count": 29,
   "metadata": {},
   "outputs": [
    {
     "name": "stdout",
     "output_type": "stream",
     "text": [
      "processed 1000 / 6552 images\n",
      "processed 2000 / 6552 images\n",
      "processed 3000 / 6552 images\n",
      "processed 4000 / 6552 images\n",
      "processed 5000 / 6552 images\n",
      "processed 6000 / 6552 images\n",
      "processed 6552 / 6552 images\n"
     ]
    }
   ],
   "source": [
    "# Load image information into dataframes\n",
    "data = []\n",
    "for image_num, (image, label) in enumerate(dataloader):\n",
    "    # expected image.shape: (1, num_channels=3, height, width)\n",
    "    num_channels = image.shape[1]\n",
    "    height, width = tuple(image.shape[2:])\n",
    "    area = height * width\n",
    "    aspect_ratio = width / height\n",
    "\n",
    "    row = [num_channels, height, width, area, aspect_ratio]\n",
    "\n",
    "    # add pixel summary stats from each channel to row\n",
    "    for channel_num in range(3):\n",
    "        if channel_num > num_channels - 1:\n",
    "            min_pixel_val = None\n",
    "            mean_pixel_val = None\n",
    "            median_pixel_val = None\n",
    "            max_pixel_val = None\n",
    "        else:\n",
    "            min_pixel_val = image[0,channel_num].min().item()\n",
    "            mean_pixel_val = image[0,channel_num].mean().item()\n",
    "            median_pixel_val = image[0,channel_num].median().item()\n",
    "            max_pixel_val = image[0,channel_num].max().item()\n",
    "        row.extend([min_pixel_val, mean_pixel_val, median_pixel_val, max_pixel_val])\n",
    "\n",
    "    data.append(row)\n",
    "\n",
    "    if (image_num + 1) % 1000 == 0 or (image_num + 1) == len(dataloader):\n",
    "        print(f\"processed {image_num + 1} / {len(dataloader)} images\")\n",
    "\n",
    "# build dataframe\n",
    "columns = [\"num_channels\", \"height\", \"width\", \"area\", \"aspect_ratio\"]\n",
    "for channel_num in range(3):\n",
    "    columns.extend([f\"chan_{channel_num}_min_pixel_val\", f\"chan_{channel_num}_mean_pixel_val\", \n",
    "                    f\"chan_{channel_num}_median_pixel_val\", f\"chan_{channel_num}_max_pixel_val\"])\n",
    "\n",
    "df = pd.DataFrame(data, columns=columns)"
   ]
  },
  {
   "cell_type": "code",
   "execution_count": 30,
   "metadata": {},
   "outputs": [
    {
     "data": {
      "text/html": [
       "<div>\n",
       "<style scoped>\n",
       "    .dataframe tbody tr th:only-of-type {\n",
       "        vertical-align: middle;\n",
       "    }\n",
       "\n",
       "    .dataframe tbody tr th {\n",
       "        vertical-align: top;\n",
       "    }\n",
       "\n",
       "    .dataframe thead th {\n",
       "        text-align: right;\n",
       "    }\n",
       "</style>\n",
       "<table border=\"1\" class=\"dataframe\">\n",
       "  <thead>\n",
       "    <tr style=\"text-align: right;\">\n",
       "      <th></th>\n",
       "      <th>num_channels</th>\n",
       "      <th>height</th>\n",
       "      <th>width</th>\n",
       "      <th>area</th>\n",
       "      <th>aspect_ratio</th>\n",
       "      <th>chan_0_min_pixel_val</th>\n",
       "      <th>chan_0_mean_pixel_val</th>\n",
       "      <th>chan_0_median_pixel_val</th>\n",
       "      <th>chan_0_max_pixel_val</th>\n",
       "      <th>chan_1_min_pixel_val</th>\n",
       "      <th>chan_1_mean_pixel_val</th>\n",
       "      <th>chan_1_median_pixel_val</th>\n",
       "      <th>chan_1_max_pixel_val</th>\n",
       "      <th>chan_2_min_pixel_val</th>\n",
       "      <th>chan_2_mean_pixel_val</th>\n",
       "      <th>chan_2_median_pixel_val</th>\n",
       "      <th>chan_2_max_pixel_val</th>\n",
       "    </tr>\n",
       "  </thead>\n",
       "  <tbody>\n",
       "    <tr>\n",
       "      <th>count</th>\n",
       "      <td>6552.0</td>\n",
       "      <td>6552.000000</td>\n",
       "      <td>6552.000000</td>\n",
       "      <td>6552.000000</td>\n",
       "      <td>6552.000000</td>\n",
       "      <td>6552.000000</td>\n",
       "      <td>6552.000000</td>\n",
       "      <td>6552.000000</td>\n",
       "      <td>6552.000000</td>\n",
       "      <td>6552.000000</td>\n",
       "      <td>6552.000000</td>\n",
       "      <td>6552.000000</td>\n",
       "      <td>6552.000000</td>\n",
       "      <td>6552.000000</td>\n",
       "      <td>6552.000000</td>\n",
       "      <td>6552.000000</td>\n",
       "      <td>6552.000000</td>\n",
       "    </tr>\n",
       "    <tr>\n",
       "      <th>mean</th>\n",
       "      <td>3.0</td>\n",
       "      <td>534.322039</td>\n",
       "      <td>630.378358</td>\n",
       "      <td>332357.138584</td>\n",
       "      <td>1.210861</td>\n",
       "      <td>0.012237</td>\n",
       "      <td>0.435311</td>\n",
       "      <td>0.381145</td>\n",
       "      <td>0.987776</td>\n",
       "      <td>0.006597</td>\n",
       "      <td>0.377333</td>\n",
       "      <td>0.344421</td>\n",
       "      <td>0.957502</td>\n",
       "      <td>0.000806</td>\n",
       "      <td>0.287118</td>\n",
       "      <td>0.227765</td>\n",
       "      <td>0.926262</td>\n",
       "    </tr>\n",
       "    <tr>\n",
       "      <th>std</th>\n",
       "      <td>0.0</td>\n",
       "      <td>75.299123</td>\n",
       "      <td>95.926038</td>\n",
       "      <td>38521.033466</td>\n",
       "      <td>0.270849</td>\n",
       "      <td>0.029633</td>\n",
       "      <td>0.119197</td>\n",
       "      <td>0.185260</td>\n",
       "      <td>0.037962</td>\n",
       "      <td>0.022409</td>\n",
       "      <td>0.109212</td>\n",
       "      <td>0.142207</td>\n",
       "      <td>0.074279</td>\n",
       "      <td>0.007717</td>\n",
       "      <td>0.135850</td>\n",
       "      <td>0.160464</td>\n",
       "      <td>0.126192</td>\n",
       "    </tr>\n",
       "    <tr>\n",
       "      <th>min</th>\n",
       "      <td>3.0</td>\n",
       "      <td>500.000000</td>\n",
       "      <td>500.000000</td>\n",
       "      <td>250000.000000</td>\n",
       "      <td>0.428082</td>\n",
       "      <td>0.000000</td>\n",
       "      <td>0.029493</td>\n",
       "      <td>0.000000</td>\n",
       "      <td>0.533333</td>\n",
       "      <td>0.000000</td>\n",
       "      <td>0.035696</td>\n",
       "      <td>0.000000</td>\n",
       "      <td>0.407843</td>\n",
       "      <td>0.000000</td>\n",
       "      <td>0.013885</td>\n",
       "      <td>0.000000</td>\n",
       "      <td>0.235294</td>\n",
       "    </tr>\n",
       "    <tr>\n",
       "      <th>25%</th>\n",
       "      <td>3.0</td>\n",
       "      <td>500.000000</td>\n",
       "      <td>501.000000</td>\n",
       "      <td>312500.000000</td>\n",
       "      <td>1.000000</td>\n",
       "      <td>0.000000</td>\n",
       "      <td>0.352689</td>\n",
       "      <td>0.247059</td>\n",
       "      <td>1.000000</td>\n",
       "      <td>0.000000</td>\n",
       "      <td>0.311543</td>\n",
       "      <td>0.250980</td>\n",
       "      <td>0.937255</td>\n",
       "      <td>0.000000</td>\n",
       "      <td>0.182219</td>\n",
       "      <td>0.101961</td>\n",
       "      <td>0.894118</td>\n",
       "    </tr>\n",
       "    <tr>\n",
       "      <th>50%</th>\n",
       "      <td>3.0</td>\n",
       "      <td>500.000000</td>\n",
       "      <td>667.000000</td>\n",
       "      <td>333500.000000</td>\n",
       "      <td>1.332000</td>\n",
       "      <td>0.000000</td>\n",
       "      <td>0.428088</td>\n",
       "      <td>0.364706</td>\n",
       "      <td>1.000000</td>\n",
       "      <td>0.000000</td>\n",
       "      <td>0.381911</td>\n",
       "      <td>0.345098</td>\n",
       "      <td>1.000000</td>\n",
       "      <td>0.000000</td>\n",
       "      <td>0.286309</td>\n",
       "      <td>0.196078</td>\n",
       "      <td>1.000000</td>\n",
       "    </tr>\n",
       "    <tr>\n",
       "      <th>75%</th>\n",
       "      <td>3.0</td>\n",
       "      <td>501.000000</td>\n",
       "      <td>699.000000</td>\n",
       "      <td>367558.500000</td>\n",
       "      <td>1.398000</td>\n",
       "      <td>0.007843</td>\n",
       "      <td>0.510019</td>\n",
       "      <td>0.498039</td>\n",
       "      <td>1.000000</td>\n",
       "      <td>0.000000</td>\n",
       "      <td>0.449570</td>\n",
       "      <td>0.435294</td>\n",
       "      <td>1.000000</td>\n",
       "      <td>0.000000</td>\n",
       "      <td>0.379142</td>\n",
       "      <td>0.317647</td>\n",
       "      <td>1.000000</td>\n",
       "    </tr>\n",
       "    <tr>\n",
       "      <th>max</th>\n",
       "      <td>3.0</td>\n",
       "      <td>1168.000000</td>\n",
       "      <td>1024.000000</td>\n",
       "      <td>584000.000000</td>\n",
       "      <td>2.048000</td>\n",
       "      <td>0.301961</td>\n",
       "      <td>0.933020</td>\n",
       "      <td>0.996078</td>\n",
       "      <td>1.000000</td>\n",
       "      <td>0.352941</td>\n",
       "      <td>0.814147</td>\n",
       "      <td>1.000000</td>\n",
       "      <td>1.000000</td>\n",
       "      <td>0.278431</td>\n",
       "      <td>0.871097</td>\n",
       "      <td>0.992157</td>\n",
       "      <td>1.000000</td>\n",
       "    </tr>\n",
       "  </tbody>\n",
       "</table>\n",
       "</div>"
      ],
      "text/plain": [
       "       num_channels       height        width           area  aspect_ratio  \\\n",
       "count        6552.0  6552.000000  6552.000000    6552.000000   6552.000000   \n",
       "mean            3.0   534.322039   630.378358  332357.138584      1.210861   \n",
       "std             0.0    75.299123    95.926038   38521.033466      0.270849   \n",
       "min             3.0   500.000000   500.000000  250000.000000      0.428082   \n",
       "25%             3.0   500.000000   501.000000  312500.000000      1.000000   \n",
       "50%             3.0   500.000000   667.000000  333500.000000      1.332000   \n",
       "75%             3.0   501.000000   699.000000  367558.500000      1.398000   \n",
       "max             3.0  1168.000000  1024.000000  584000.000000      2.048000   \n",
       "\n",
       "       chan_0_min_pixel_val  chan_0_mean_pixel_val  chan_0_median_pixel_val  \\\n",
       "count           6552.000000            6552.000000              6552.000000   \n",
       "mean               0.012237               0.435311                 0.381145   \n",
       "std                0.029633               0.119197                 0.185260   \n",
       "min                0.000000               0.029493                 0.000000   \n",
       "25%                0.000000               0.352689                 0.247059   \n",
       "50%                0.000000               0.428088                 0.364706   \n",
       "75%                0.007843               0.510019                 0.498039   \n",
       "max                0.301961               0.933020                 0.996078   \n",
       "\n",
       "       chan_0_max_pixel_val  chan_1_min_pixel_val  chan_1_mean_pixel_val  \\\n",
       "count           6552.000000           6552.000000            6552.000000   \n",
       "mean               0.987776              0.006597               0.377333   \n",
       "std                0.037962              0.022409               0.109212   \n",
       "min                0.533333              0.000000               0.035696   \n",
       "25%                1.000000              0.000000               0.311543   \n",
       "50%                1.000000              0.000000               0.381911   \n",
       "75%                1.000000              0.000000               0.449570   \n",
       "max                1.000000              0.352941               0.814147   \n",
       "\n",
       "       chan_1_median_pixel_val  chan_1_max_pixel_val  chan_2_min_pixel_val  \\\n",
       "count              6552.000000           6552.000000           6552.000000   \n",
       "mean                  0.344421              0.957502              0.000806   \n",
       "std                   0.142207              0.074279              0.007717   \n",
       "min                   0.000000              0.407843              0.000000   \n",
       "25%                   0.250980              0.937255              0.000000   \n",
       "50%                   0.345098              1.000000              0.000000   \n",
       "75%                   0.435294              1.000000              0.000000   \n",
       "max                   1.000000              1.000000              0.278431   \n",
       "\n",
       "       chan_2_mean_pixel_val  chan_2_median_pixel_val  chan_2_max_pixel_val  \n",
       "count            6552.000000              6552.000000           6552.000000  \n",
       "mean                0.287118                 0.227765              0.926262  \n",
       "std                 0.135850                 0.160464              0.126192  \n",
       "min                 0.013885                 0.000000              0.235294  \n",
       "25%                 0.182219                 0.101961              0.894118  \n",
       "50%                 0.286309                 0.196078              1.000000  \n",
       "75%                 0.379142                 0.317647              1.000000  \n",
       "max                 0.871097                 0.992157              1.000000  "
      ]
     },
     "metadata": {},
     "output_type": "display_data"
    }
   ],
   "source": [
    "# display stats on columns\n",
    "display(df.describe())"
   ]
  },
  {
   "cell_type": "code",
   "execution_count": 31,
   "metadata": {},
   "outputs": [
    {
     "name": "stdout",
     "output_type": "stream",
     "text": [
      "num unique (height, width): 795\n",
      "Top 10:\n",
      "shape          count\n",
      "(500, 667)     1183\n",
      "(500, 752)     664\n",
      "(500, 666)     274\n",
      "(500, 750)     202\n",
      "(667, 500)     164\n",
      "(752, 500)     99\n",
      "(501, 667)     75\n",
      "(500, 500)     57\n",
      "(500, 751)     57\n",
      "(500, 625)     56\n"
     ]
    }
   ],
   "source": [
    "# display stats on image dimensions (height, width)\n",
    "unique_shapes = collections.Counter(df[[\"height\", \"width\"]].itertuples(index=False, name=None))\n",
    "print(f\"num unique (height, width): {len(unique_shapes)}\")\n",
    "print(\"Top 10:\")\n",
    "print(\"shape          count\")\n",
    "for shape, count in unique_shapes.most_common(10):\n",
    "    print(f\"{str(shape).ljust(15)}{count}\")"
   ]
  },
  {
   "cell_type": "code",
   "execution_count": 32,
   "metadata": {},
   "outputs": [
    {
     "data": {
      "text/plain": [
       "0    500\n",
       "1    500\n",
       "2    500\n",
       "3    500\n",
       "4    500\n",
       "5    500\n",
       "6    654\n",
       "7    500\n",
       "8    714\n",
       "9    500\n",
       "Name: height, dtype: int64"
      ]
     },
     "execution_count": 32,
     "metadata": {},
     "output_type": "execute_result"
    }
   ],
   "source": [
    "df[\"height\"][:10]"
   ]
  },
  {
   "cell_type": "code",
   "execution_count": 33,
   "metadata": {},
   "outputs": [
    {
     "data": {
      "image/png": "[encoded data removed]",
      "text/plain": [
       "<Figure size 640x480 with 1 Axes>"
      ]
     },
     "metadata": {},
     "output_type": "display_data"
    },
    {
     "data": {
      "image/png": "[encoded data removed]",
      "text/plain": [
       "<Figure size 640x480 with 1 Axes>"
      ]
     },
     "metadata": {},
     "output_type": "display_data"
    },
    {
     "data": {
      "image/png": "[encoded data removed]",
      "text/plain": [
       "<Figure size 640x480 with 1 Axes>"
      ]
     },
     "metadata": {},
     "output_type": "display_data"
    },
    {
     "data": {
      "image/png": "[encoded data removed]",
      "text/plain": [
       "<Figure size 640x480 with 1 Axes>"
      ]
     },
     "metadata": {},
     "output_type": "display_data"
    }
   ],
   "source": [
    "# Plot distributions for some image dimension features\n",
    "_, ax = plt.subplots()\n",
    "ax = sns.histplot(df[\"height\"], binwidth=20)\n",
    "ax.set_title(\"Height distribution\");\n",
    "\n",
    "_, ax = plt.subplots()\n",
    "ax = sns.histplot(df[\"width\"], binwidth=20)\n",
    "ax.set_title(\"Width distribution\");\n",
    "\n",
    "_, ax = plt.subplots()\n",
    "ax = sns.histplot(df[\"area\"])\n",
    "ax.set_title(\"Area distribution\");\n",
    "\n",
    "_, ax = plt.subplots()\n",
    "ax = sns.histplot(df[\"aspect_ratio\"])\n",
    "ax.set_title(\"Aspect Ratio distribution\");"
   ]
  },
  {
   "cell_type": "markdown",
   "metadata": {},
   "source": [
    "## cat_to_name.json"
   ]
  },
  {
   "cell_type": "code",
   "execution_count": 44,
   "metadata": {},
   "outputs": [
    {
     "name": "stdout",
     "output_type": "stream",
     "text": [
      "length of dictionary: 102\n",
      "categories range from 1 to 102\n",
      "all values are unique\n",
      "Some example entries:\n",
      "\t21  fire lily\n",
      "\t3   canterbury bells\n",
      "\t45  bolero deep blue\n",
      "\t1   pink primrose\n",
      "\t34  mexican aster\n"
     ]
    }
   ],
   "source": [
    "# print some info on categories from provided json file\n",
    "# NOTE: both key and value are strings\n",
    "with open('cat_to_name.json', 'r') as f:\n",
    "    cat_to_name = json.load(f)\n",
    "\n",
    "print(f\"length of dictionary: {len(cat_to_name)}\")\n",
    "\n",
    "# verify that all categories are integers ranging from 1 to len(cat_to_name)\n",
    "categories = list([int(category) for category in cat_to_name])\n",
    "categories.sort()\n",
    "# protecting against the possibility of categories: \"01\" and \"1\"\n",
    "if len(categories) != len(set(categories)):\n",
    "    print(\"WARNING: interestingly, the unique string categories are not unique when cast to an integer!\")\n",
    "if categories == list(range(1, len(cat_to_name)+1)):\n",
    "    print(f\"categories range from 1 to {len(cat_to_name)}\")\n",
    "\n",
    "# check that all values are unique\n",
    "values = list(cat_to_name.values())\n",
    "if len(values) == len(set(values)):\n",
    "    print(\"all values are unique\")\n",
    "\n",
    "# print example entries\n",
    "print(\"Some example entries:\")\n",
    "for n, (category, name) in enumerate(cat_to_name.items()):\n",
    "    print(f\"\\t{category.ljust(4)}{name}\")\n",
    "\n",
    "    # break after printing 5\n",
    "    if n == 4:\n",
    "        break"
   ]
  }
 ],
 "metadata": {
  "kernelspec": {
   "display_name": "udacity-pandas",
   "language": "python",
   "name": "python3"
  },
  "language_info": {
   "codemirror_mode": {
    "name": "ipython",
    "version": 3
   },
   "file_extension": ".py",
   "mimetype": "text/x-python",
   "name": "python",
   "nbconvert_exporter": "python",
   "pygments_lexer": "ipython3",
   "version": "3.11.7"
  }
 },
 "nbformat": 4,
 "nbformat_minor": 2
}
